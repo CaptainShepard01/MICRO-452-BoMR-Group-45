{
 "cells": [
  {
   "metadata": {
    "ExecuteTime": {
     "end_time": "2024-11-26T16:35:56.299197Z",
     "start_time": "2024-11-26T16:35:56.264534Z"
    }
   },
   "cell_type": "code",
   "source": [
    "import numpy as np\n",
    "from tdmclient import ClientAsync, aw\n",
    "import time\n",
    "\n",
    "class Thymio():\n",
    "    SENSORS_HORIZONTAL = \"prox.horizontal\"\n",
    "    LEFT_MOTOR = \"motor.left.target\"\n",
    "    RIGHT_MOTOR = \"motor.right.target\"\n",
    "    \n",
    "    LEDS_TOP = \"leds.top\"\n",
    "    LEDS_BOTTOM_LEFT = \"leds.bottom.left\"\n",
    "    LEDS_BOTTOM_RIGHT = \"leds.bottom.right\"\n",
    "    LEDS_RC = \"leds.rc\"\n",
    "    LEDS_TEMPERATURE = \"leds.temperature\"\n",
    "    LEDS_PROX_H = \"leds.prox.h\"\n",
    "    LEDS_PROX_V = \"leds.prox.v\"\n",
    "\n",
    "    OBSTACLE_THRESHOLD = 1000\n",
    "    SCALE = 0.01\n",
    "    SPEED = 50\n",
    "\n",
    "    def __init__(self):\n",
    "        self.client = ClientAsync()\n",
    "        self.node = aw(self.client.wait_for_node())\n",
    "        aw(self.node.lock())\n",
    "\n",
    "    def __del__(self):\n",
    "        aw(self.node.unlock())\n",
    "        \n",
    "    def set_leds(self, leds: list, led_type: str):\n",
    "        \"\"\"\n",
    "        Sets the LEDs of the Thymio\n",
    "    \n",
    "        :param leds: list of LED values\n",
    "        :param led_type: type of LEDs to set\n",
    "        \"\"\"\n",
    "    \n",
    "        aw(self.node.set_variables({\n",
    "            led_type: leds\n",
    "        }))\n",
    "        \n",
    "    def reset_leds(self):\n",
    "        \"\"\"\n",
    "        Resets the LEDs of the Thymio\n",
    "        \"\"\"\n",
    "        \n",
    "        self.set_leds([0, 0, 0], self.LEDS_TOP)\n",
    "        self.set_leds([0, 0, 0], self.LEDS_BOTTOM_LEFT)\n",
    "        self.set_leds([0, 0, 0], self.LEDS_BOTTOM_RIGHT)\n",
    "        self.set_leds([0], self.LEDS_RC)\n",
    "        self.set_leds([0, 0], self.LEDS_TEMPERATURE)\n",
    "        self.set_leds([0, 0, 0, 0, 0, 0, 0, 0], self.LEDS_PROX_H)\n",
    "        self.set_leds([0, 0], self.LEDS_PROX_V)\n",
    "\n",
    "    def set_motors(self, left_motor: int, right_motor: int, verbose: bool = False):\n",
    "        \"\"\"\n",
    "        Sets the motor speeds of the Thymio\n",
    "\n",
    "        :param l_speed: left motor speed\n",
    "        :param r_speed: right motor speed\n",
    "        :param verbose: whether to print status messages or not\n",
    "        \"\"\"\n",
    "\n",
    "        if verbose:\n",
    "            print(\"\\t\\t Setting speed : \", left_motor, right_motor)\n",
    "\n",
    "        aw(self.node.set_variables({\n",
    "            self.LEFT_MOTOR: [left_motor],\n",
    "            self.RIGHT_MOTOR: [right_motor]\n",
    "        }))\n",
    "\n",
    "    def get_horizontal_sensors(self, verbose: bool = False):\n",
    "        \"\"\"\n",
    "        Returns the horizontal proximity sensors\n",
    "\n",
    "        :param verbose: whether to print status messages or not\n",
    "        \"\"\"\n",
    "\n",
    "        aw(self.client.wait_for_status(self.client.NODE_STATUS_READY))\n",
    "        aw(self.node.wait_for_variables({self.SENSORS_HORIZONTAL}))\n",
    "\n",
    "        values = self.node.var[self.SENSORS_HORIZONTAL]\n",
    "\n",
    "        if verbose:\n",
    "            print(\"\\t\\t Sensor values : \", values)\n",
    "\n",
    "        return np.array(values)[:5]\n",
    "\n",
    "    def local_navigation(self):\n",
    "        \"\"\"\n",
    "        Local navigation until no obstacles are detected\n",
    "\n",
    "        :return: True if no obstacles are detected\n",
    "        \"\"\"\n",
    "        while np.any(self.get_horizontal_sensors() > self.OBSTACLE_THRESHOLD):\n",
    "            W = np.array([[2,  1, -1, -1, -2], [-2, -1, -1,  1,  2]]) * self.SCALE\n",
    "\n",
    "            motor_values = W @ self.get_horizontal_sensors().T + self.SPEED\n",
    "            left_motor = int(motor_values[0])\n",
    "            right_motor = int(motor_values[1])\n",
    "\n",
    "            self.set_motors(left_motor, right_motor)\n",
    "\n",
    "        return True"
   ],
   "id": "e2426b25bb54390f",
   "outputs": [],
   "execution_count": 75
  },
  {
   "metadata": {
    "ExecuteTime": {
     "end_time": "2024-11-26T16:35:18.608940Z",
     "start_time": "2024-11-26T16:35:18.373921Z"
    }
   },
   "cell_type": "code",
   "source": "th = Thymio()",
   "id": "cdf393bb4251ccff",
   "outputs": [],
   "execution_count": 73
  },
  {
   "metadata": {
    "ExecuteTime": {
     "end_time": "2024-11-26T16:35:20.149552Z",
     "start_time": "2024-11-26T16:35:19.408083Z"
    }
   },
   "cell_type": "code",
   "source": "th.reset_leds()",
   "id": "1061cddf974586df",
   "outputs": [],
   "execution_count": 74
  },
  {
   "metadata": {
    "ExecuteTime": {
     "end_time": "2024-11-26T15:21:46.340959Z",
     "start_time": "2024-11-26T15:21:39.072509Z"
    }
   },
   "cell_type": "code",
   "source": [
    "for _ in range(100):\n",
    "    print(th.get_horizontal_sensors())\n",
    "    time.sleep(0.1)"
   ],
   "id": "e20f428f26ec5e8c",
   "outputs": [
    {
     "name": "stdout",
     "output_type": "stream",
     "text": [
      "[0 0 0 0 0]\n",
      "[0 0 0 0 0]\n",
      "[0 0 0 0 0]\n",
      "[0 0 0 0 0]\n",
      "[0 0 0 0 0]\n",
      "[0 0 0 0 0]\n",
      "[0 0 0 0 0]\n",
      "[0 0 0 0 0]\n",
      "[   0 2238 4468 4043 3986]\n",
      "[   0 2238 4468 4043 3986]\n",
      "[   0 3394 4465 4048 4027]\n",
      "[   0 3394 4465 4048 4027]\n",
      "[   0    0 4381 3750 3275]\n",
      "[   0    0 4381 3750 3275]\n",
      "[   0    0 4381 3750 3275]\n",
      "[   0    0    0 3162 2883]\n",
      "[0 0 0 0 0]\n",
      "[0 0 0 0 0]\n",
      "[0 0 0 0 0]\n",
      "[0 0 0 0 0]\n",
      "[0 0 0 0 0]\n",
      "[   0    0 2021 2166 2242]\n",
      "[   0 4363 4196 3361 3183]\n",
      "[   0 4363 4196 3361 3183]\n",
      "[4082 2672 2904 2497    0]\n",
      "[0 0 0 0 0]\n",
      "[0 0 0 0 0]\n",
      "[0 0 0 0 0]\n",
      "[   0    0 3253 1910 1023]\n",
      "[   0 3226 4388 2652 1852]\n",
      "[   0 3226 4388 2652 1852]\n",
      "[   0 3226 4388 2652 1852]\n",
      "[   0 2016 2935 1986 1662]\n",
      "[0 0 0 0 0]\n",
      "[0 0 0 0 0]\n",
      "[0 0 0 0 0]\n",
      "[0 0 0 0 0]\n",
      "[0 0 0 0 0]\n",
      "[0 0 0 0 0]\n",
      "[0 0 0 0 0]\n",
      "[0 0 0 0 0]\n",
      "[0 0 0 0 0]\n",
      "[0 0 0 0 0]\n",
      "[0 0 0 0 0]\n",
      "[0 0 0 0 0]\n",
      "[0 0 0 0 0]\n",
      "[0 0 0 0 0]\n",
      "[0 0 0 0 0]\n"
     ]
    },
    {
     "ename": "KeyboardInterrupt",
     "evalue": "",
     "output_type": "error",
     "traceback": [
      "\u001B[1;31m---------------------------------------------------------------------------\u001B[0m",
      "\u001B[1;31mKeyboardInterrupt\u001B[0m                         Traceback (most recent call last)",
      "Cell \u001B[1;32mIn[9], line 3\u001B[0m\n\u001B[0;32m      1\u001B[0m \u001B[38;5;28;01mfor\u001B[39;00m _ \u001B[38;5;129;01min\u001B[39;00m \u001B[38;5;28mrange\u001B[39m(\u001B[38;5;241m100\u001B[39m):\n\u001B[0;32m      2\u001B[0m     \u001B[38;5;28mprint\u001B[39m(th\u001B[38;5;241m.\u001B[39mget_horizontal_sensors())\n\u001B[1;32m----> 3\u001B[0m     sleep(\u001B[38;5;241m0.1\u001B[39m)\n",
      "\u001B[1;31mKeyboardInterrupt\u001B[0m: "
     ]
    }
   ],
   "execution_count": 9
  },
  {
   "metadata": {
    "ExecuteTime": {
     "end_time": "2024-11-26T15:20:16.197045Z",
     "start_time": "2024-11-26T15:20:13.513813Z"
    }
   },
   "cell_type": "code",
   "source": "th.local_navigation()",
   "id": "1e534417a75bad15",
   "outputs": [],
   "execution_count": 8
  },
  {
   "metadata": {
    "ExecuteTime": {
     "end_time": "2024-11-21T10:49:54.411176Z",
     "start_time": "2024-11-21T10:49:54.213782Z"
    }
   },
   "cell_type": "code",
   "source": "th.set_motors(0, 0)",
   "id": "a128ebf4d5799539",
   "outputs": [],
   "execution_count": 33
  },
  {
   "metadata": {
    "ExecuteTime": {
     "end_time": "2024-11-26T16:36:01.606236Z",
     "start_time": "2024-11-26T16:36:01.371113Z"
    }
   },
   "cell_type": "code",
   "source": "th.__del__()",
   "id": "789a61040005f0a6",
   "outputs": [],
   "execution_count": 76
  }
 ],
 "metadata": {
  "kernelspec": {
   "display_name": "Python 3",
   "language": "python",
   "name": "python3"
  },
  "language_info": {
   "codemirror_mode": {
    "name": "ipython",
    "version": 2
   },
   "file_extension": ".py",
   "mimetype": "text/x-python",
   "name": "python",
   "nbconvert_exporter": "python",
   "pygments_lexer": "ipython2",
   "version": "2.7.6"
  }
 },
 "nbformat": 4,
 "nbformat_minor": 5
}
