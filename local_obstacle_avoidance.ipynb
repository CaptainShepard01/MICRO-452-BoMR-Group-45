{
 "cells": [
  {
   "metadata": {},
   "cell_type": "code",
   "outputs": [],
   "execution_count": null,
   "source": "from thymio import Thymio",
   "id": "dc52ed3e5db56cb4"
  },
  {
   "metadata": {
    "ExecuteTime": {
     "end_time": "2024-11-26T16:35:18.608940Z",
     "start_time": "2024-11-26T16:35:18.373921Z"
    }
   },
   "cell_type": "code",
   "source": "th = Thymio()",
   "id": "cdf393bb4251ccff",
   "outputs": [],
   "execution_count": 73
  },
  {
   "metadata": {
    "ExecuteTime": {
     "end_time": "2024-11-26T16:35:20.149552Z",
     "start_time": "2024-11-26T16:35:19.408083Z"
    }
   },
   "cell_type": "code",
   "source": "th.reset_leds()",
   "id": "1061cddf974586df",
   "outputs": [],
   "execution_count": 74
  },
  {
   "metadata": {
    "ExecuteTime": {
     "end_time": "2024-11-26T15:21:46.340959Z",
     "start_time": "2024-11-26T15:21:39.072509Z"
    }
   },
   "cell_type": "code",
   "source": [
    "for _ in range(100):\n",
    "    print(th.get_horizontal_sensors())\n",
    "    time.sleep(0.1)"
   ],
   "id": "e20f428f26ec5e8c",
   "outputs": [
    {
     "name": "stdout",
     "output_type": "stream",
     "text": [
      "[0 0 0 0 0]\n",
      "[0 0 0 0 0]\n",
      "[0 0 0 0 0]\n",
      "[0 0 0 0 0]\n",
      "[0 0 0 0 0]\n",
      "[0 0 0 0 0]\n",
      "[0 0 0 0 0]\n",
      "[0 0 0 0 0]\n",
      "[   0 2238 4468 4043 3986]\n",
      "[   0 2238 4468 4043 3986]\n",
      "[   0 3394 4465 4048 4027]\n",
      "[   0 3394 4465 4048 4027]\n",
      "[   0    0 4381 3750 3275]\n",
      "[   0    0 4381 3750 3275]\n",
      "[   0    0 4381 3750 3275]\n",
      "[   0    0    0 3162 2883]\n",
      "[0 0 0 0 0]\n",
      "[0 0 0 0 0]\n",
      "[0 0 0 0 0]\n",
      "[0 0 0 0 0]\n",
      "[0 0 0 0 0]\n",
      "[   0    0 2021 2166 2242]\n",
      "[   0 4363 4196 3361 3183]\n",
      "[   0 4363 4196 3361 3183]\n",
      "[4082 2672 2904 2497    0]\n",
      "[0 0 0 0 0]\n",
      "[0 0 0 0 0]\n",
      "[0 0 0 0 0]\n",
      "[   0    0 3253 1910 1023]\n",
      "[   0 3226 4388 2652 1852]\n",
      "[   0 3226 4388 2652 1852]\n",
      "[   0 3226 4388 2652 1852]\n",
      "[   0 2016 2935 1986 1662]\n",
      "[0 0 0 0 0]\n",
      "[0 0 0 0 0]\n",
      "[0 0 0 0 0]\n",
      "[0 0 0 0 0]\n",
      "[0 0 0 0 0]\n",
      "[0 0 0 0 0]\n",
      "[0 0 0 0 0]\n",
      "[0 0 0 0 0]\n",
      "[0 0 0 0 0]\n",
      "[0 0 0 0 0]\n",
      "[0 0 0 0 0]\n",
      "[0 0 0 0 0]\n",
      "[0 0 0 0 0]\n",
      "[0 0 0 0 0]\n",
      "[0 0 0 0 0]\n"
     ]
    },
    {
     "ename": "KeyboardInterrupt",
     "evalue": "",
     "output_type": "error",
     "traceback": [
      "\u001B[1;31m---------------------------------------------------------------------------\u001B[0m",
      "\u001B[1;31mKeyboardInterrupt\u001B[0m                         Traceback (most recent call last)",
      "Cell \u001B[1;32mIn[9], line 3\u001B[0m\n\u001B[0;32m      1\u001B[0m \u001B[38;5;28;01mfor\u001B[39;00m _ \u001B[38;5;129;01min\u001B[39;00m \u001B[38;5;28mrange\u001B[39m(\u001B[38;5;241m100\u001B[39m):\n\u001B[0;32m      2\u001B[0m     \u001B[38;5;28mprint\u001B[39m(th\u001B[38;5;241m.\u001B[39mget_horizontal_sensors())\n\u001B[1;32m----> 3\u001B[0m     sleep(\u001B[38;5;241m0.1\u001B[39m)\n",
      "\u001B[1;31mKeyboardInterrupt\u001B[0m: "
     ]
    }
   ],
   "execution_count": 9
  },
  {
   "metadata": {
    "ExecuteTime": {
     "end_time": "2024-11-26T15:20:16.197045Z",
     "start_time": "2024-11-26T15:20:13.513813Z"
    }
   },
   "cell_type": "code",
   "source": "th.local_navigation()",
   "id": "1e534417a75bad15",
   "outputs": [],
   "execution_count": 8
  },
  {
   "metadata": {
    "ExecuteTime": {
     "end_time": "2024-11-21T10:49:54.411176Z",
     "start_time": "2024-11-21T10:49:54.213782Z"
    }
   },
   "cell_type": "code",
   "source": "th.set_motors(0, 0)",
   "id": "a128ebf4d5799539",
   "outputs": [],
   "execution_count": 33
  },
  {
   "metadata": {
    "ExecuteTime": {
     "end_time": "2024-11-26T16:36:01.606236Z",
     "start_time": "2024-11-26T16:36:01.371113Z"
    }
   },
   "cell_type": "code",
   "source": "th.__del__()",
   "id": "789a61040005f0a6",
   "outputs": [],
   "execution_count": 76
  }
 ],
 "metadata": {
  "kernelspec": {
   "display_name": "Python 3",
   "language": "python",
   "name": "python3"
  },
  "language_info": {
   "codemirror_mode": {
    "name": "ipython",
    "version": 2
   },
   "file_extension": ".py",
   "mimetype": "text/x-python",
   "name": "python",
   "nbconvert_exporter": "python",
   "pygments_lexer": "ipython2",
   "version": "2.7.6"
  }
 },
 "nbformat": 4,
 "nbformat_minor": 5
}
