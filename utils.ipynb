{
 "cells": [
  {
   "metadata": {
    "ExecuteTime": {
     "end_time": "2024-12-03T14:47:30.585439Z",
     "start_time": "2024-12-03T14:47:29.618211Z"
    }
   },
   "cell_type": "code",
   "source": [
    "import matplotlib.pyplot as plt\n",
    "%load_ext autoreload\n",
    "%autoreload 2"
   ],
   "id": "e8d32ad3ffd717be",
   "outputs": [],
   "execution_count": 1
  },
  {
   "metadata": {
    "ExecuteTime": {
     "end_time": "2024-12-05T18:18:29.140634Z",
     "start_time": "2024-12-05T18:18:28.727364Z"
    }
   },
   "cell_type": "code",
   "outputs": [],
   "execution_count": 10,
   "source": [
    "import tdmclient.notebook\n",
    "await tdmclient.notebook.start()"
   ],
   "id": "8594b7eb5eee24ad"
  },
  {
   "metadata": {
    "ExecuteTime": {
     "end_time": "2024-12-05T18:18:29.352021Z",
     "start_time": "2024-12-05T18:18:29.140761Z"
    }
   },
   "cell_type": "code",
   "outputs": [],
   "execution_count": 11,
   "source": [
    "%%run_python\n",
    "nf_leds_top(0, 0, 0)\n",
    "nf_leds_prox_h(0, 0, 0, 0, 0, 0, 0, 0)\n",
    "nf_leds_prox_v(0, 0)\n",
    "nf_leds_temperature(0, 0)"
   ],
   "id": "a6a0a2838b155cd1"
  },
  {
   "metadata": {
    "ExecuteTime": {
     "end_time": "2024-12-05T18:18:32.049749Z",
     "start_time": "2024-12-05T18:18:31.829582Z"
    }
   },
   "cell_type": "code",
   "outputs": [],
   "execution_count": 12,
   "source": "await tdmclient.notebook.stop()",
   "id": "e935fc7ebfeca5b5"
  },
  {
   "metadata": {
    "ExecuteTime": {
     "end_time": "2024-12-05T18:20:45.761867Z",
     "start_time": "2024-12-05T18:20:45.151791Z"
    }
   },
   "cell_type": "code",
   "source": [
    "from thymio import Thymio\n",
    "\n",
    "thymio = Thymio()"
   ],
   "id": "aef7f3fb0c9ad5de",
   "outputs": [],
   "execution_count": 13
  },
  {
   "metadata": {
    "ExecuteTime": {
     "end_time": "2024-12-05T18:20:45.870517Z",
     "start_time": "2024-12-05T18:20:45.761867Z"
    }
   },
   "cell_type": "code",
   "source": "thymio.stop()",
   "id": "c06445f8f3de09a6",
   "outputs": [],
   "execution_count": 14
  },
  {
   "metadata": {
    "ExecuteTime": {
     "end_time": "2024-12-04T18:32:20.737235Z",
     "start_time": "2024-12-04T18:32:20.629668Z"
    }
   },
   "cell_type": "code",
   "source": "thymio.set_motors(-200, -200)",
   "id": "83c694916c3a07b1",
   "outputs": [],
   "execution_count": 140
  },
  {
   "metadata": {
    "ExecuteTime": {
     "end_time": "2024-12-05T18:20:47.572568Z",
     "start_time": "2024-12-05T18:20:47.365625Z"
    }
   },
   "cell_type": "code",
   "source": "thymio.__del__()",
   "id": "40b0d665f0fbbe94",
   "outputs": [],
   "execution_count": 15
  },
  {
   "metadata": {
    "ExecuteTime": {
     "end_time": "2024-12-04T10:50:38.732444Z",
     "start_time": "2024-12-04T10:50:36.502636Z"
    }
   },
   "cell_type": "code",
   "source": "!pip install --upgrade tdmclient",
   "id": "9034b07c93ceb97a",
   "outputs": [
    {
     "name": "stdout",
     "output_type": "stream",
     "text": [
      "Requirement already satisfied: tdmclient in c:\\users\\balanton\\anaconda3\\envs\\mobile_robotics\\lib\\site-packages (0.1.21)\n",
      "Requirement already satisfied: websockets in c:\\users\\balanton\\anaconda3\\envs\\mobile_robotics\\lib\\site-packages (from tdmclient) (13.0.1)\n",
      "Requirement already satisfied: zeroconf in c:\\users\\balanton\\anaconda3\\envs\\mobile_robotics\\lib\\site-packages (from tdmclient) (0.134.0)\n",
      "Requirement already satisfied: ifaddr>=0.1.7 in c:\\users\\balanton\\anaconda3\\envs\\mobile_robotics\\lib\\site-packages (from zeroconf->tdmclient) (0.2.0)\n"
     ]
    }
   ],
   "execution_count": 7
  }
 ],
 "metadata": {
  "kernelspec": {
   "display_name": "Python 3",
   "language": "python",
   "name": "python3"
  },
  "language_info": {
   "codemirror_mode": {
    "name": "ipython",
    "version": 2
   },
   "file_extension": ".py",
   "mimetype": "text/x-python",
   "name": "python",
   "nbconvert_exporter": "python",
   "pygments_lexer": "ipython2",
   "version": "2.7.6"
  }
 },
 "nbformat": 4,
 "nbformat_minor": 5
}
