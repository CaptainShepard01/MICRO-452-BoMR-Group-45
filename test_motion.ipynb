{
 "cells": [
  {
   "metadata": {
    "ExecuteTime": {
     "end_time": "2024-11-28T08:51:47.422149Z",
     "start_time": "2024-11-28T08:51:47.348749Z"
    }
   },
   "cell_type": "code",
   "source": [
    "%load_ext autoreload\n",
    "%autoreload 2"
   ],
   "id": "e8d32ad3ffd717be",
   "outputs": [],
   "execution_count": 1
  },
  {
   "metadata": {
    "ExecuteTime": {
     "end_time": "2024-11-28T09:26:47.385876Z",
     "start_time": "2024-11-28T09:26:47.009538Z"
    }
   },
   "cell_type": "code",
   "source": [
    "from thymio import Thymio\n",
    "import numpy as np\n",
    "\n",
    "thymio = Thymio()"
   ],
   "id": "690d276a5a1cf7e2",
   "outputs": [],
   "execution_count": 30
  },
  {
   "metadata": {
    "ExecuteTime": {
     "end_time": "2024-11-28T09:48:30.675746Z",
     "start_time": "2024-11-28T09:48:30.273538Z"
    }
   },
   "cell_type": "code",
   "source": [
    "position = np.array([-10, -10])\n",
    "goal = np.array([0, 0])\n",
    "orientation = 0 * np.pi / 180\n",
    "\n",
    "thymio.set_position(position)\n",
    "thymio.set_goal(goal)\n",
    "thymio.set_orientation(orientation)\n",
    "\n",
    "thymio.plot_direction(goal)"
   ],
   "id": "3ecc617a9babd3e3",
   "outputs": [
    {
     "data": {
      "text/plain": [
       "<Figure size 640x480 with 1 Axes>"
      ],
      "image/png": "[encoded data removed]"
     },
     "metadata": {},
     "output_type": "display_data"
    }
   ],
   "execution_count": 62
  },
  {
   "metadata": {
    "ExecuteTime": {
     "end_time": "2024-11-28T09:58:46.838981Z",
     "start_time": "2024-11-28T09:58:35.432899Z"
    }
   },
   "cell_type": "code",
   "source": [
    "from run_EKF import run_EKF\n",
    "from ExtendedKF import KalmanFilterExtended\n",
    "import time\n",
    "\n",
    "pos_x, pos_y = thymio.position\n",
    "theta = thymio.orientation\n",
    "wheels_data = thymio.get_wheels_speed()\n",
    "\n",
    "ekf = KalmanFilterExtended([pos_x, pos_y, theta], wheels_data)\n",
    "for i in range(10):\n",
    "    print(\"Position before: \", pos_x, pos_y)\n",
    "    print(\"Orientation before: \", theta)\n",
    "    print(\"Wheels data: \", wheels_data)\n",
    "    \n",
    "    # print(thymio.position, thymio.orientation)\n",
    "    pos_x, pos_y, theta, left_wheel, right_wheel = run_EKF(ekf, pos_x, pos_y, theta, wheels_data)\n",
    "    print(\"Position: \", pos_x, pos_y)\n",
    "    print(\"Orientation: \", theta)\n",
    "    print(\"Left wheel: \", left_wheel)\n",
    "    print(\"Right wheel: \", right_wheel)\n",
    "    \n",
    "    thymio.set_position(np.array([pos_x, pos_y]))\n",
    "    thymio.set_orientation(theta)\n",
    "    thymio.move_to_point_astolfi(goal)\n",
    "    time.sleep(1)\n",
    "    \n",
    "    pos_x, pos_y = thymio.position\n",
    "    theta = thymio.orientation\n",
    "    wheels_data = thymio.get_wheels_speed()"
   ],
   "id": "d4ded3c0dc2ab4e",
   "outputs": [
    {
     "name": "stdout",
     "output_type": "stream",
     "text": [
      "Position before:  -10.0 -10.0\n",
      "Orientation before:  0.0\n",
      "Wheels data:  [0 0]\n",
      "Position:  -10.0 -10.0\n",
      "Orientation:  0.0\n",
      "Left wheel:  0.0\n",
      "Right wheel:  0.0\n",
      "Position before:  -10.0 -10.0\n",
      "Orientation before:  0.0\n",
      "Wheels data:  [53 86]\n",
      "Position:  -10.0 -10.0\n",
      "Orientation:  0.0\n",
      "Left wheel:  0.0\n",
      "Right wheel:  0.0\n",
      "Position before:  -10.0 -10.0\n",
      "Orientation before:  0.0\n",
      "Wheels data:  [52 80]\n",
      "Position:  -10.0 -10.0\n",
      "Orientation:  0.0\n",
      "Left wheel:  0.0\n",
      "Right wheel:  0.0\n",
      "Position before:  -10.0 -10.0\n",
      "Orientation before:  0.0\n",
      "Wheels data:  [49 88]\n",
      "Position:  -10.0 -10.0\n",
      "Orientation:  0.0\n",
      "Left wheel:  0.0\n",
      "Right wheel:  0.0\n",
      "Position before:  -10.0 -10.0\n",
      "Orientation before:  0.0\n",
      "Wheels data:  [50 88]\n",
      "Position:  -10.0 -10.0\n",
      "Orientation:  0.0\n",
      "Left wheel:  0.0\n",
      "Right wheel:  0.0\n",
      "Position before:  -10.0 -10.0\n",
      "Orientation before:  0.0\n",
      "Wheels data:  [51 87]\n",
      "Position:  -10.0 -10.0\n",
      "Orientation:  0.0\n",
      "Left wheel:  0.0\n",
      "Right wheel:  0.0\n",
      "Position before:  -10.0 -10.0\n",
      "Orientation before:  0.0\n",
      "Wheels data:  [54 89]\n",
      "Position:  -10.0 -10.0\n",
      "Orientation:  0.0\n",
      "Left wheel:  0.0\n",
      "Right wheel:  0.0\n",
      "Position before:  -10.0 -10.0\n",
      "Orientation before:  0.0\n",
      "Wheels data:  [51 86]\n",
      "Position:  -10.0 -10.0\n",
      "Orientation:  0.0\n",
      "Left wheel:  0.0\n",
      "Right wheel:  0.0\n",
      "Position before:  -10.0 -10.0\n",
      "Orientation before:  0.0\n",
      "Wheels data:  [53 87]\n",
      "Position:  -10.0 -10.0\n",
      "Orientation:  0.0\n",
      "Left wheel:  0.0\n",
      "Right wheel:  0.0\n",
      "Position before:  -10.0 -10.0\n",
      "Orientation before:  0.0\n",
      "Wheels data:  [52 88]\n",
      "Position:  -10.0 -10.0\n",
      "Orientation:  0.0\n",
      "Left wheel:  0.0\n",
      "Right wheel:  0.0\n"
     ]
    }
   ],
   "execution_count": 68
  },
  {
   "metadata": {
    "ExecuteTime": {
     "end_time": "2024-11-28T09:08:10.443147Z",
     "start_time": "2024-11-28T09:08:10.261591Z"
    }
   },
   "cell_type": "code",
   "source": "thymio.move_to_point_astolfi(goal, verbose=True)",
   "id": "6d8ffe29af7a9de2",
   "outputs": [
    {
     "name": "stdout",
     "output_type": "stream",
     "text": [
      "Orientation:  0.3490658503988659\n",
      "Rho:  14.142135623730951\n",
      "Dy:  -10\n",
      "Dx:  -10\n",
      "Left motor:  131.57914181070905\n",
      "Right motor:  9.842214426600457\n"
     ]
    }
   ],
   "execution_count": 27
  },
  {
   "metadata": {
    "ExecuteTime": {
     "end_time": "2024-11-28T09:58:49.527442Z",
     "start_time": "2024-11-28T09:58:49.314029Z"
    }
   },
   "cell_type": "code",
   "source": "thymio.stop()",
   "id": "3cf72e055fe7f567",
   "outputs": [],
   "execution_count": 69
  },
  {
   "metadata": {
    "ExecuteTime": {
     "end_time": "2024-11-28T09:26:43.473350Z",
     "start_time": "2024-11-28T09:26:43.059626Z"
    }
   },
   "cell_type": "code",
   "source": "thymio.__del__()",
   "id": "c251e10b3f172f31",
   "outputs": [],
   "execution_count": 29
  }
 ],
 "metadata": {
  "kernelspec": {
   "display_name": "Python 3",
   "language": "python",
   "name": "python3"
  },
  "language_info": {
   "codemirror_mode": {
    "name": "ipython",
    "version": 2
   },
   "file_extension": ".py",
   "mimetype": "text/x-python",
   "name": "python",
   "nbconvert_exporter": "python",
   "pygments_lexer": "ipython2",
   "version": "2.7.6"
  }
 },
 "nbformat": 4,
 "nbformat_minor": 5
}
